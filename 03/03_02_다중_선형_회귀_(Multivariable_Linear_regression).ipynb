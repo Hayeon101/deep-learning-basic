{
  "nbformat": 4,
  "nbformat_minor": 0,
  "metadata": {
    "colab": {
      "provenance": [],
      "authorship_tag": "ABX9TyO6pL1UpO29RPEIdUdHWyWr",
      "include_colab_link": true
    },
    "kernelspec": {
      "name": "python3",
      "display_name": "Python 3"
    },
    "language_info": {
      "name": "python"
    }
  },
  "cells": [
    {
      "cell_type": "markdown",
      "metadata": {
        "id": "view-in-github",
        "colab_type": "text"
      },
      "source": [
        "<a href=\"https://colab.research.google.com/github/Hayeon101/deep-learning-basic/blob/main/03/03_02_%EB%8B%A4%EC%A4%91_%EC%84%A0%ED%98%95_%ED%9A%8C%EA%B7%80_(Multivariable_Linear_regression).ipynb\" target=\"_parent\"><img src=\"https://colab.research.google.com/assets/colab-badge.svg\" alt=\"Open In Colab\"/></a>"
      ]
    },
    {
      "cell_type": "code",
      "execution_count": 1,
      "metadata": {
        "id": "Sm916n4Q-97_"
      },
      "outputs": [],
      "source": [
        "import torch"
      ]
    },
    {
      "cell_type": "markdown",
      "source": [
        "$x$가 1개인 선형 회귀를 단순 선형회귀 (Simple Linear Regression)이라고 하는데, 다수의 $x$로부터 $y$를 예측하는 다중 선형회귀 (Multivariable Linear Regression)에 대해 배웁니다."
      ],
      "metadata": {
        "id": "iBoeR_Ip_GfG"
      }
    },
    {
      "cell_type": "markdown",
      "source": [
        "## 1. 데이터에 대한 이해 (Data Definition)"
      ],
      "metadata": {
        "id": "x6sewMpJAkHv"
      }
    },
    {
      "cell_type": "markdown",
      "source": [
        "![스크린샷 2024-10-24 14-41-46.png](data:image/png;base64,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)\n",
        "\n",
        "위 훈련 데이터를 보면 독립 변수 $x$의 개수가 3개입니다.\n",
        "\n",
        "이로부터 수식을 이끌어 내면 다음과 같습니다.\n",
        "\n",
        "$H(x) = w_1x_1 + w_2x_2 + w_3x_3 + b$"
      ],
      "metadata": {
        "id": "1dhtuZtXA2R7"
      }
    },
    {
      "cell_type": "markdown",
      "source": [
        "## 2. 파이토치로 구현하기"
      ],
      "metadata": {
        "id": "bL8A9FjtDUyQ"
      }
    },
    {
      "cell_type": "code",
      "source": [
        "import torch\n",
        "import torch.nn as nn\n",
        "import torch.nn.functional as F\n",
        "import torch.optim as optim\n",
        "\n",
        "torch.manual_seed(1)"
      ],
      "metadata": {
        "colab": {
          "base_uri": "https://localhost:8080/"
        },
        "id": "hg50AkbvDXbR",
        "outputId": "6d02de63-3ade-4a73-d6a4-bfa02ef40ec0"
      },
      "execution_count": 2,
      "outputs": [
        {
          "output_type": "execute_result",
          "data": {
            "text/plain": [
              "<torch._C.Generator at 0x7c02e56a4b30>"
            ]
          },
          "metadata": {},
          "execution_count": 2
        }
      ]
    },
    {
      "cell_type": "code",
      "source": [
        "# 훈련 데이터 x를 3개 선언\n",
        "x1_train = torch.FloatTensor([[73],[93],[89],[96],[73]])\n",
        "x2_train = torch.FloatTensor([[80],[88],[91],[98],[66]])\n",
        "x3_train = torch.FloatTensor([[75],[93],[90],[100],[70]])\n",
        "y_train = torch.FloatTensor([[152],[185],[180],[196],[142]])"
      ],
      "metadata": {
        "id": "Ux49nl5rDmkS"
      },
      "execution_count": 3,
      "outputs": []
    },
    {
      "cell_type": "code",
      "source": [
        "# 가중치 w와 편향 b 초기화\n",
        "w1 = torch.zeros(1, requires_grad=True)\n",
        "w2 = torch.zeros(1, requires_grad=True)\n",
        "w3 = torch.zeros(1, requires_grad=True)\n",
        "b = torch.zeros(1, requires_grad=True)"
      ],
      "metadata": {
        "id": "paHCJuaNEMeO"
      },
      "execution_count": 4,
      "outputs": []
    },
    {
      "cell_type": "code",
      "source": [
        "# optimizer 설정\n",
        "optimizer = optim.SGD([w1,w2,w3,b], lr=1e-5)\n",
        "\n",
        "nb_epochs = 1000\n",
        "for epoch in range(nb_epochs+1):\n",
        "\n",
        "  # H(x) 계산\n",
        "  hypothesis = x1_train * w1 + x2_train * w2 + x3_train * w3 + b\n",
        "\n",
        "  # cost 계산\n",
        "  cost = torch.mean((hypothesis - y_train) ** 2)\n",
        "\n",
        "  # cost로 H(x) 개선\n",
        "  optimizer.zero_grad()\n",
        "  cost.backward()\n",
        "  optimizer.step()\n",
        "\n",
        "  # 100번마다 로그 출력\n",
        "  if epoch % 100 == 0:\n",
        "    print('Epoch {:4d}/{} w1: {:.3f} w2: {:.3f} w3: {:.3f} b: {:.3f} Cost: {:.6f}'.format(\n",
        "        epoch, nb_epochs, w1.item(), w2.item(), w3.item(), b.item(), cost.item()\n",
        "    ))"
      ],
      "metadata": {
        "colab": {
          "base_uri": "https://localhost:8080/"
        },
        "id": "rGriOsAkEXUC",
        "outputId": "38c1d558-f5b1-4356-fbb7-43a432c3471e"
      },
      "execution_count": 6,
      "outputs": [
        {
          "output_type": "stream",
          "name": "stdout",
          "text": [
            "Epoch    0/1000 w1: 0.294 w2: 0.294 w3: 0.297 b: 0.003 Cost: 29661.800781\n",
            "Epoch  100/1000 w1: 0.674 w2: 0.661 w3: 0.676 b: 0.008 Cost: 1.563628\n",
            "Epoch  200/1000 w1: 0.679 w2: 0.655 w3: 0.677 b: 0.008 Cost: 1.497595\n",
            "Epoch  300/1000 w1: 0.684 w2: 0.649 w3: 0.677 b: 0.008 Cost: 1.435044\n",
            "Epoch  400/1000 w1: 0.689 w2: 0.643 w3: 0.678 b: 0.008 Cost: 1.375726\n",
            "Epoch  500/1000 w1: 0.694 w2: 0.638 w3: 0.678 b: 0.009 Cost: 1.319507\n",
            "Epoch  600/1000 w1: 0.699 w2: 0.633 w3: 0.679 b: 0.009 Cost: 1.266222\n",
            "Epoch  700/1000 w1: 0.704 w2: 0.627 w3: 0.679 b: 0.009 Cost: 1.215703\n",
            "Epoch  800/1000 w1: 0.709 w2: 0.622 w3: 0.679 b: 0.009 Cost: 1.167810\n",
            "Epoch  900/1000 w1: 0.713 w2: 0.617 w3: 0.680 b: 0.009 Cost: 1.122429\n",
            "Epoch 1000/1000 w1: 0.718 w2: 0.613 w3: 0.680 b: 0.009 Cost: 1.079390\n"
          ]
        }
      ]
    },
    {
      "cell_type": "markdown",
      "source": [
        "## 3. 벡터와 행렬 연산으로 바꾸기"
      ],
      "metadata": {
        "id": "cZXywvXTFxjf"
      }
    },
    {
      "cell_type": "markdown",
      "source": [
        "위 방식에서는 $x$가 3개였기 때문에 훈련 데이터와 가중치 모두 3개를 일일이 선언해 주었습니다. 그런데 이런 방식은 $x$의 개수가 크게 증가했을 때 매우 비효율적입니다.\n",
        "\n",
        "이를 해결하기 위해 행렬 곱셈 연산 (벡터의 내적) 을 사용합니다. 가설을 벡터와 행렬 연산으로 표현할 수 있는 것입니다."
      ],
      "metadata": {
        "id": "uujM2atZF0u-"
      }
    },
    {
      "cell_type": "markdown",
      "source": [
        "### 1) 벡터 연산으로 이해하기"
      ],
      "metadata": {
        "id": "gFyV-pdkGS89"
      }
    },
    {
      "cell_type": "markdown",
      "source": [
        "앞서 작성했던\n",
        "$H(x) = w_1x_1 + w_2x_2 + w_3x_3$\n",
        "이 식은 아래와 같이 벡터의 내적으로 표현할 수 있습니다.\n",
        "\n",
        "$\\begin{pmatrix} x_1 & x_2 & x_3 \\end{pmatrix} \\cdot \\begin{pmatrix} w_1 \\\\ w_2 \\\\ w_3 \\end{pmatrix} = x_1w_1 + x_2w_2 + x_3w_3$\n",
        "\n",
        "이는 $H(X) = XW$ 라는 가설입니다. $x$ 3개와 $w$ 3개를 각각 $X$와 $W$ 한 개로 표현했습니다."
      ],
      "metadata": {
        "id": "Kneq2eIRGlMK"
      }
    },
    {
      "cell_type": "markdown",
      "source": [
        "### 2) 행렬 연산으로 이해하기"
      ],
      "metadata": {
        "id": "JcUXGRJpHxSW"
      }
    },
    {
      "cell_type": "markdown",
      "source": [
        "| Quiz 1 (x1) | Quiz 2 (x2) | Quiz 3 (x3) | Final (y) |\n",
        "|-------------|-------------|-------------|-----------|\n",
        "| 73          | 80          | 75          | 152       |\n",
        "| 93          | 88          | 93          | 185       |\n",
        "| 89          | 91          | 80          | 180       |\n",
        "| 96          | 98          | 100         | 196       |\n",
        "| 73          | 66          | 70          | 142       |\n",
        "\n",
        "<br>훈련 데이터에서 1개의 단위를 샘플(sample)이라고 합니다. 또한 독립 변수 $x$는 특성(feature)이라고 합니다. 위 표의 데이터를 보면 샘플은 총 5개이고, 특성은 3개입니다.\n",
        "\n",
        "독립 변수 $x$들은 따라서 ($3 × 5 = $) 15개가 되는데, 행렬 $X$로 표현해 봅시다.\n",
        "\n",
        "$\\begin{pmatrix}\n",
        "x_{11} & x_{12} & x_{13} \\\\\n",
        "x_{21} & x_{22} & x_{23} \\\\\n",
        "x_{31} & x_{32} & x_{33} \\\\\n",
        "x_{41} & x_{42} & x_{43} \\\\\n",
        "x_{51} & x_{52} & x_{53}\n",
        "\\end{pmatrix}\n",
        "$\n",
        "\n",
        "여기에 가중치 벡터 W와 편향 b까지 표시하면 다음과 같습니다.\n",
        "\n",
        "$H(X) = XW + B$\n",
        "\n",
        "$\\begin{pmatrix}\n",
        "x_{11} & x_{12} & x_{13} \\\\\n",
        "x_{21} & x_{22} & x_{23} \\\\\n",
        "x_{31} & x_{32} & x_{33} \\\\\n",
        "x_{41} & x_{42} & x_{43} \\\\\n",
        "x_{51} & x_{52} & x_{53}\n",
        "\\end{pmatrix}\n",
        "\\begin{pmatrix}\n",
        "w_1 \\\\\n",
        "w_2 \\\\\n",
        "w_3\n",
        "\\end{pmatrix}\n",
        "+\n",
        "\\begin{pmatrix}\n",
        "b \\\\\n",
        "b \\\\\n",
        "b \\\\\n",
        "b \\\\\n",
        "b\n",
        "\\end{pmatrix}\n",
        "=\n",
        "\\begin{pmatrix}\n",
        "x_{11}w_1 + x_{12}w_2 + x_{13}w_3 + b \\\\\n",
        "x_{21}w_1 + x_{22}w_2 + x_{23}w_3 + b \\\\\n",
        "x_{31}w_1 + x_{32}w_2 + x_{33}w_3 + b \\\\\n",
        "x_{41}w_1 + x_{42}w_2 + x_{43}w_3 + b \\\\\n",
        "x_{51}w_1 + x_{52}w_2 + x_{53}w_3 + b\n",
        "\\end{pmatrix}$\n",
        "\n"
      ],
      "metadata": {
        "id": "5LJMCRAtIXL4"
      }
    },
    {
      "cell_type": "markdown",
      "source": [
        "## 4. 행렬 연산을 고려하여 파이토치로 구현하기\n",
        "\n",
        "행렬 연산을 파이토치로 구현해 봅시다."
      ],
      "metadata": {
        "id": "psKMvHu8LmeT"
      }
    },
    {
      "cell_type": "code",
      "source": [
        "x_train = torch.FloatTensor([[73, 80, 75],\n",
        "                             [93, 88, 93],\n",
        "                             [89, 91, 80],\n",
        "                             [96, 98, 100],\n",
        "                             [73, 66, 70]])\n",
        "y_train = torch.FloatTensor([[152],[185],[180],[196],[142]])"
      ],
      "metadata": {
        "id": "K5k-gH_EPTlt"
      },
      "execution_count": 7,
      "outputs": []
    },
    {
      "cell_type": "code",
      "source": [
        "print(x_train.shape)\n",
        "print(y_train.shape)"
      ],
      "metadata": {
        "colab": {
          "base_uri": "https://localhost:8080/"
        },
        "id": "DTGZL5vEPpb5",
        "outputId": "800dcb73-cc1a-44b8-a5c3-bddbe32aaa19"
      },
      "execution_count": 8,
      "outputs": [
        {
          "output_type": "stream",
          "name": "stdout",
          "text": [
            "torch.Size([5, 3])\n",
            "torch.Size([5, 1])\n"
          ]
        }
      ]
    },
    {
      "cell_type": "markdown",
      "source": [
        "행렬 X가 5행 3열 이기 때문에 가중치 W는 3행 1열로 정의됩니다.\n",
        "\n",
        "가설은 행렬곱을 하고 편향 b를 더하면서 정의하였습니다."
      ],
      "metadata": {
        "id": "R_a_W5SDSd9_"
      }
    },
    {
      "cell_type": "code",
      "source": [
        "# 가중치와 편향 선언\n",
        "W = torch.zeros((3,1), requires_grad=True)\n",
        "b = torch.zeros(1, requires_grad=True)"
      ],
      "metadata": {
        "id": "-BTpi8G-PtMG"
      },
      "execution_count": 9,
      "outputs": []
    },
    {
      "cell_type": "code",
      "source": [
        "# 가설\n",
        "hypothesis = x_train.matmul(W) + b"
      ],
      "metadata": {
        "id": "1CTX47nxR8jH"
      },
      "execution_count": 10,
      "outputs": []
    },
    {
      "cell_type": "code",
      "source": [
        "# 전체 코드\n",
        "x_train = torch.FloatTensor([[73, 80, 75],\n",
        "                             [93, 88, 93],\n",
        "                             [89, 91, 80],\n",
        "                             [96, 98, 100],\n",
        "                             [73, 66, 70]])\n",
        "y_train = torch.FloatTensor([[152],[185],[180],[196],[142]])\n",
        "# 모델 초기화\n",
        "W = torch.zeros((3,1), requires_grad=True)\n",
        "b = torch.zeros(1, requires_grad=True)\n",
        "# optimizer 설정\n",
        "optimizer = optim.SGD([W,b], lr=1e-5)\n",
        "\n",
        "nb_epochs = 20\n",
        "for epoch in range(nb_epochs + 1):\n",
        "  # H(x) 계산\n",
        "  # 편향 b는 브로드 캐스팅 되어 각 샘플에 더해집니다.\n",
        "  hypothesis = x_train.matmul(W) + b\n",
        "\n",
        "  # cost 계산\n",
        "  cost = torch.mean((hypothesis - y_train) ** 2)\n",
        "\n",
        "  # cost로 H(x) 개선\n",
        "  optimizer.zero_grad()\n",
        "  cost.backward()\n",
        "  optimizer.step()\n",
        "\n",
        "  # .squeeze().detach()를 통해 크기가 1인 차원을 제거하고 기울기 추적을 하지 않도록 합니다.\n",
        "  print(f'Epoch {epoch:4d}/{nb_epochs} hypothesis: {hypothesis.squeeze().detach()} Cost: {cost.item():.6f}')"
      ],
      "metadata": {
        "colab": {
          "base_uri": "https://localhost:8080/"
        },
        "id": "FaGS9DTySt0h",
        "outputId": "66371862-ab2d-4d02-fc4e-ebdba1025376"
      },
      "execution_count": 18,
      "outputs": [
        {
          "output_type": "stream",
          "name": "stdout",
          "text": [
            "Epoch    0/20 hypothesis: tensor([0., 0., 0., 0., 0.]) Cost: 29661.800781\n",
            "Epoch    1/20 hypothesis: tensor([66.7178, 80.1701, 76.1025, 86.0194, 61.1565]) Cost: 9537.694336\n",
            "Epoch    2/20 hypothesis: tensor([104.5421, 125.6208, 119.2478, 134.7862,  95.8280]) Cost: 3069.590088\n",
            "Epoch    3/20 hypothesis: tensor([125.9858, 151.3882, 143.7087, 162.4333, 115.4844]) Cost: 990.670288\n",
            "Epoch    4/20 hypothesis: tensor([138.1429, 165.9963, 157.5768, 178.1071, 126.6283]) Cost: 322.481873\n",
            "Epoch    5/20 hypothesis: tensor([145.0350, 174.2780, 165.4395, 186.9928, 132.9461]) Cost: 107.717064\n",
            "Epoch    6/20 hypothesis: tensor([148.9423, 178.9730, 169.8976, 192.0301, 136.5279]) Cost: 38.687496\n",
            "Epoch    7/20 hypothesis: tensor([151.1574, 181.6346, 172.4254, 194.8856, 138.5585]) Cost: 16.499043\n",
            "Epoch    8/20 hypothesis: tensor([152.4131, 183.1435, 173.8590, 196.5043, 139.7097]) Cost: 9.365656\n",
            "Epoch    9/20 hypothesis: tensor([153.1250, 183.9988, 174.6723, 197.4217, 140.3625]) Cost: 7.071114\n",
            "Epoch   10/20 hypothesis: tensor([153.5285, 184.4835, 175.1338, 197.9415, 140.7325]) Cost: 6.331847\n",
            "Epoch   11/20 hypothesis: tensor([153.7572, 184.7582, 175.3958, 198.2360, 140.9424]) Cost: 6.092532\n",
            "Epoch   12/20 hypothesis: tensor([153.8868, 184.9138, 175.5449, 198.4026, 141.0613]) Cost: 6.013817\n",
            "Epoch   13/20 hypothesis: tensor([153.9602, 185.0019, 175.6299, 198.4969, 141.1288]) Cost: 5.986785\n",
            "Epoch   14/20 hypothesis: tensor([154.0017, 185.0517, 175.6785, 198.5500, 141.1671]) Cost: 5.976325\n",
            "Epoch   15/20 hypothesis: tensor([154.0252, 185.0798, 175.7065, 198.5800, 141.1888]) Cost: 5.971208\n",
            "Epoch   16/20 hypothesis: tensor([154.0385, 185.0956, 175.7229, 198.5966, 141.2012]) Cost: 5.967835\n",
            "Epoch   17/20 hypothesis: tensor([154.0459, 185.1045, 175.7326, 198.6059, 141.2082]) Cost: 5.964969\n",
            "Epoch   18/20 hypothesis: tensor([154.0501, 185.1094, 175.7386, 198.6108, 141.2122]) Cost: 5.962291\n",
            "Epoch   19/20 hypothesis: tensor([154.0524, 185.1120, 175.7424, 198.6134, 141.2145]) Cost: 5.959664\n",
            "Epoch   20/20 hypothesis: tensor([154.0536, 185.1134, 175.7451, 198.6145, 141.2158]) Cost: 5.957089\n"
          ]
        }
      ]
    },
    {
      "cell_type": "markdown",
      "source": [
        "생성된 모델에 새로운 값을 넣어 예측해 봅시다.\n",
        "\n",
        "\n",
        "\n",
        "```python\n",
        "with torch.no_grad\n",
        "```\n",
        "이 블록 안에서는 기울기 계산을 비활성화 합니다. 예측을 할 때는 가중치 업데이트를 할 필요가 없기 때문입니다.\n",
        "\n",
        "```pytohn\n",
        "print(f'Predicted value for input {new_input.squeeze().tolist()}: {prediction.item()}')\n",
        "```\n",
        "new_input.squeeze().tolist()로 입력 값을 리스트 형태로 보기 쉽게 만듭니다.\n",
        "\n"
      ],
      "metadata": {
        "id": "YSj_zlx6V6gI"
      }
    },
    {
      "cell_type": "code",
      "source": [
        "# 임의의 입력 값에 대한 예측\n",
        "with torch.no_grad():\n",
        "  new_input = torch.FloatTensor([[75, 85, 72]]) # 예측하고 싶은 임의의 입력\n",
        "  prediction = new_input.matmul(W) + b\n",
        "  print(f'Predicted value for input {new_input.squeeze().tolist()}: {prediction.item()}')"
      ],
      "metadata": {
        "colab": {
          "base_uri": "https://localhost:8080/"
        },
        "id": "EASLcQzNT3zD",
        "outputId": "f428021c-328e-4580-c503-b79bc55800c0"
      },
      "execution_count": 16,
      "outputs": [
        {
          "output_type": "stream",
          "name": "stdout",
          "text": [
            "Predicted value for input [75.0, 85.0, 72.0]: 156.8051300048828\n"
          ]
        }
      ]
    }
  ]
}