{
  "nbformat": 4,
  "nbformat_minor": 0,
  "metadata": {
    "colab": {
      "provenance": [],
      "collapsed_sections": [
        "A2KsJPNlbhbN",
        "Cys1ApW3lzxG",
        "G9yxSFZy4lb8",
        "3tBz9Tqzqut-",
        "t8mHxxq_vFj4"
      ],
      "authorship_tag": "ABX9TyOhX3fhOuG9UkDe7Jgz4Qfc",
      "include_colab_link": true
    },
    "kernelspec": {
      "name": "python3",
      "display_name": "Python 3"
    },
    "language_info": {
      "name": "python"
    }
  },
  "cells": [
    {
      "cell_type": "markdown",
      "metadata": {
        "id": "view-in-github",
        "colab_type": "text"
      },
      "source": [
        "<a href=\"https://colab.research.google.com/github/Hayeon101/deep-learning-basic/blob/main/03/03_03_nn_Module%EA%B3%BC_%ED%81%B4%EB%9E%98%EC%8A%A4%EB%A1%9C_%EA%B5%AC%ED%98%84%ED%95%98%EA%B8%B0.ipynb\" target=\"_parent\"><img src=\"https://colab.research.google.com/assets/colab-badge.svg\" alt=\"Open In Colab\"/></a>"
      ]
    },
    {
      "cell_type": "markdown",
      "source": [
        "Pytorch에서 이미 구현되어 있는 함수들을 제공받아 쉽게 선형 회귀 모델을 구현해봅시다.\n",
        "\n",
        "선형 회귀 모델은 nn.Linear()라는 함수, 평균 제곱 오차는 nn.functional.mse_loss()로 구현되어 있습니다."
      ],
      "metadata": {
        "id": "iH--bCfran5-"
      }
    },
    {
      "cell_type": "code",
      "execution_count": null,
      "metadata": {
        "id": "bFvjMQL8adZJ"
      },
      "outputs": [],
      "source": [
        "# 예제 : 실행하지 말 것\n",
        "\n",
        "import torch.nn as nn\n",
        "model = nn.Linear(input_dim, output_dim)\n",
        "\n",
        "import torch.nn.functional as F\n",
        "cost = F.mse_loss(prediction, y_train)"
      ]
    },
    {
      "cell_type": "markdown",
      "source": [
        "## 1. 단순 선형 회귀 구현하기"
      ],
      "metadata": {
        "id": "A2KsJPNlbhbN"
      }
    },
    {
      "cell_type": "code",
      "source": [
        "import torch\n",
        "import torch.nn as nn\n",
        "import torch.nn.functional as F\n",
        "\n",
        "torch.manual_seed(1)"
      ],
      "metadata": {
        "colab": {
          "base_uri": "https://localhost:8080/"
        },
        "id": "pekP70QtbjgD",
        "outputId": "75cb6781-6b95-427d-c626-3fdd4bd378b7"
      },
      "execution_count": 1,
      "outputs": [
        {
          "output_type": "execute_result",
          "data": {
            "text/plain": [
              "<torch._C.Generator at 0x7afa05548bb0>"
            ]
          },
          "metadata": {},
          "execution_count": 1
        }
      ]
    },
    {
      "cell_type": "markdown",
      "source": [
        "$y = 2x$를 가정된 상태로 만들어진 데이터를 선언합니다."
      ],
      "metadata": {
        "id": "xYmb6RC_b6Ja"
      }
    },
    {
      "cell_type": "code",
      "source": [
        "# 데이터\n",
        "x_train = torch.FloatTensor([[1],[2],[3]])\n",
        "y_train = torch.FloatTensor([[2],[4],[6]])"
      ],
      "metadata": {
        "id": "V0SxefjmbtzA"
      },
      "execution_count": 2,
      "outputs": []
    },
    {
      "cell_type": "markdown",
      "source": [
        "nn.Linear()는 입력의 차원, 출력의 차원을 인수로 받습니다."
      ],
      "metadata": {
        "id": "0_YhOkrQcV-G"
      }
    },
    {
      "cell_type": "code",
      "source": [
        "# 모델을 선언 및 초기화. 단순 선형 회귀이므로 input_dim = 1, output_dim = 1\n",
        "model = nn.Linear(1,1)"
      ],
      "metadata": {
        "id": "BLtRpoR4cUDV"
      },
      "execution_count": 3,
      "outputs": []
    },
    {
      "cell_type": "markdown",
      "source": [
        "선언한 model에는 가중치 $W$와 편향 $b$가 저장되어져 있는데, model.parameters() 함수를 통해 불러올 수 있습니다."
      ],
      "metadata": {
        "id": "i65n_XcBcjpx"
      }
    },
    {
      "cell_type": "code",
      "source": [
        "print(list(model.parameters()))"
      ],
      "metadata": {
        "colab": {
          "base_uri": "https://localhost:8080/"
        },
        "id": "LHlqJty1cjHh",
        "outputId": "e4371b6a-1db8-41a2-a08e-09d0d2ae5e6c"
      },
      "execution_count": 4,
      "outputs": [
        {
          "output_type": "stream",
          "name": "stdout",
          "text": [
            "[Parameter containing:\n",
            "tensor([[0.5153]], requires_grad=True), Parameter containing:\n",
            "tensor([-0.4414], requires_grad=True)]\n"
          ]
        }
      ]
    },
    {
      "cell_type": "markdown",
      "source": [
        "첫 번째 값이 $W$이고, 두 번째 값이 $b$입니다. 두 변수 모두 학습의 대상이므로 requires_grad = True로 지정되어 있습니다.\n",
        "\n",
        "옵티마이저를 정의합니다."
      ],
      "metadata": {
        "id": "B0MEQw2zeJCB"
      }
    },
    {
      "cell_type": "code",
      "source": [
        "# optimizer 설정. 경사 하강법 SGD를 사용하고 learning rate를 의미하는 lr은 0.01로 정의\n",
        "optimizer = torch.optim.SGD(model.parameters(), lr=0.01)"
      ],
      "metadata": {
        "id": "KeySzpIEcvoT"
      },
      "execution_count": 5,
      "outputs": []
    },
    {
      "cell_type": "code",
      "source": [
        "# 전체 훈련 데이터에 대해 경사 하강법을 2,000회 반복\n",
        "nb_epochs = 2000\n",
        "for epoch in range(nb_epochs):\n",
        "\n",
        "  # H(x) 계산\n",
        "  prediction = model(x_train)\n",
        "\n",
        "  # cost 계산\n",
        "  cost = F.mse_loss(prediction, y_train) # <= Pytorch에서 제공하는 평균 제곱 오차 함수\n",
        "\n",
        "  # cost로 H(x)를 개선\n",
        "  # gradient를 0으로 초기화\n",
        "  optimizer.zero_grad()\n",
        "  # 비용 함수를 미분하여 gradient 계산\n",
        "  cost.backward() # backward 연산\n",
        "  # W와 b를 업데이트\n",
        "  optimizer.step()\n",
        "\n",
        "  if epoch % 100 == 0:\n",
        "    # 100번마다 로그 출력\n",
        "    print(f'Epoch {epoch:4d}/{nb_epochs} Cost: {cost.item():.6f}')"
      ],
      "metadata": {
        "colab": {
          "base_uri": "https://localhost:8080/"
        },
        "id": "xVYMdL1JenOV",
        "outputId": "729484c0-e16e-4d2d-dc16-a40fed794122"
      },
      "execution_count": 6,
      "outputs": [
        {
          "output_type": "stream",
          "name": "stdout",
          "text": [
            "Epoch    0/2000 Cost: 13.103541\n",
            "Epoch  100/2000 Cost: 0.002791\n",
            "Epoch  200/2000 Cost: 0.001724\n",
            "Epoch  300/2000 Cost: 0.001066\n",
            "Epoch  400/2000 Cost: 0.000658\n",
            "Epoch  500/2000 Cost: 0.000407\n",
            "Epoch  600/2000 Cost: 0.000251\n",
            "Epoch  700/2000 Cost: 0.000155\n",
            "Epoch  800/2000 Cost: 0.000096\n",
            "Epoch  900/2000 Cost: 0.000059\n",
            "Epoch 1000/2000 Cost: 0.000037\n",
            "Epoch 1100/2000 Cost: 0.000023\n",
            "Epoch 1200/2000 Cost: 0.000014\n",
            "Epoch 1300/2000 Cost: 0.000009\n",
            "Epoch 1400/2000 Cost: 0.000005\n",
            "Epoch 1500/2000 Cost: 0.000003\n",
            "Epoch 1600/2000 Cost: 0.000002\n",
            "Epoch 1700/2000 Cost: 0.000001\n",
            "Epoch 1800/2000 Cost: 0.000001\n",
            "Epoch 1900/2000 Cost: 0.000000\n"
          ]
        }
      ]
    },
    {
      "cell_type": "code",
      "source": [
        "# 임의의 입력 4를 선언\n",
        "new_var = torch.FloatTensor([[4.0]])\n",
        "# 입력한 값 4에 대해서 예측값 y를 리턴받아서 pred_y에 저장\n",
        "pred_y = model(new_var) # forward 연산\n",
        "# y = 2x 이므로 입력이 4라면 y가 8에 가까운 값이 나와야 제대로 학습이 된 것\n",
        "print(\"훈련 후 입력이 4일 때의 예측값 :\",pred_y)"
      ],
      "metadata": {
        "colab": {
          "base_uri": "https://localhost:8080/"
        },
        "id": "py4x0tG3fw3u",
        "outputId": "ade83a7a-ff18-403d-b998-313c084b3790"
      },
      "execution_count": 7,
      "outputs": [
        {
          "output_type": "stream",
          "name": "stdout",
          "text": [
            "훈련 후 입력이 4일 때의 예측값 : tensor([[7.9989]], grad_fn=<AddmmBackward0>)\n"
          ]
        }
      ]
    },
    {
      "cell_type": "markdown",
      "source": [
        "훈련이 잘 된 것 같으니 학습 후의 $W$와 $b$값을 봅시다."
      ],
      "metadata": {
        "id": "ktPducoLjICK"
      }
    },
    {
      "cell_type": "code",
      "source": [
        "print(list(model.parameters()))"
      ],
      "metadata": {
        "colab": {
          "base_uri": "https://localhost:8080/"
        },
        "id": "QAGVcxyxjdlS",
        "outputId": "32fc43e1-df90-4cdb-9fc2-2d6536d8f79f"
      },
      "execution_count": 8,
      "outputs": [
        {
          "output_type": "stream",
          "name": "stdout",
          "text": [
            "[Parameter containing:\n",
            "tensor([[1.9994]], requires_grad=True), Parameter containing:\n",
            "tensor([0.0014], requires_grad=True)]\n"
          ]
        }
      ]
    },
    {
      "cell_type": "markdown",
      "source": [
        "* **forward 연산과 backward 연산**\n",
        "  - $H(x)$ 식에 입력 $x$로부터 예측된 $y$를 얻는 것을 forward 연산이라고 합니다.\n",
        "    - 학습 전, prediction = model(x_train)은 x_train으로부터 예측값을 리턴하므로 forward 연산입니다.\n",
        "    - 학습 후, pred_y = model(new_var)은 임의의 값 new_var로부터 예측값을 리턴하므로 forward 연산입니다.\n",
        "  - 학습 과정에서 비용 함수를 미분하여 기울기를 구하는 것을 backward 연산이라고 합니다.\n",
        "    - cost.backward()는 비용함수로부터 기울기를 구하는 코드이며 backward 연산입니다."
      ],
      "metadata": {
        "id": "JFgrS3HokIuD"
      }
    },
    {
      "cell_type": "markdown",
      "source": [
        "## 2. 다중 선형 회귀 구현하기"
      ],
      "metadata": {
        "id": "Cys1ApW3lzxG"
      }
    },
    {
      "cell_type": "markdown",
      "source": [
        "nn.Linear()와 nn.functional.mse_loss()로 다중 선형 회귀를 구현해 봅니다. 코드에서 큰 차이는 없습니다."
      ],
      "metadata": {
        "id": "Xf2YWM2Dl3sV"
      }
    },
    {
      "cell_type": "code",
      "source": [
        "import torch\n",
        "import torch.nn as nn\n",
        "import torch.nn.functional as F\n",
        "\n",
        "torch.manual_seed(1)"
      ],
      "metadata": {
        "colab": {
          "base_uri": "https://localhost:8080/"
        },
        "id": "Z_lZkwSIjguk",
        "outputId": "6884f579-282b-4f33-b427-503d12d8217d"
      },
      "execution_count": 9,
      "outputs": [
        {
          "output_type": "execute_result",
          "data": {
            "text/plain": [
              "<torch._C.Generator at 0x7afa05548bb0>"
            ]
          },
          "metadata": {},
          "execution_count": 9
        }
      ]
    },
    {
      "cell_type": "markdown",
      "source": [
        "3개의 $x$로부터 하나의 $y$를 예측합니다.\n",
        "\n",
        "따라서 가설 수식은 $H(x) = w_1x_1 + w_2x_2 + w_3x_3 + b$ 가 됩니다."
      ],
      "metadata": {
        "id": "zK8gg6nvmPDh"
      }
    },
    {
      "cell_type": "code",
      "source": [
        "# 데이터\n",
        "x_train = torch.FloatTensor([[73,80,75],\n",
        "                             [93,88,93],\n",
        "                             [89,91,90],\n",
        "                             [96,98,100],\n",
        "                             [73,66,70]])\n",
        "y_train = torch.FloatTensor([[152],[185],[180],[196],[142]])"
      ],
      "metadata": {
        "id": "IpIIEw4omFku"
      },
      "execution_count": 17,
      "outputs": []
    },
    {
      "cell_type": "code",
      "source": [
        "# 모델을 선언 및 초기화. 다중 선형 회귀이므로 input_dim = 3, output_dim = 1.\n",
        "model = nn.Linear(3,1)"
      ],
      "metadata": {
        "id": "IFVCB6WZnAHm"
      },
      "execution_count": 21,
      "outputs": []
    },
    {
      "cell_type": "code",
      "source": [
        "print(list(model.parameters()))"
      ],
      "metadata": {
        "colab": {
          "base_uri": "https://localhost:8080/"
        },
        "id": "jynp1RdhnJhW",
        "outputId": "55dbe8c5-a47a-47c4-f745-2c71fde66998"
      },
      "execution_count": 19,
      "outputs": [
        {
          "output_type": "stream",
          "name": "stdout",
          "text": [
            "[Parameter containing:\n",
            "tensor([[-0.5435,  0.3462, -0.1188]], requires_grad=True), Parameter containing:\n",
            "tensor([0.2937], requires_grad=True)]\n"
          ]
        }
      ]
    },
    {
      "cell_type": "markdown",
      "source": [
        "옵티마이저를 정의합니다. model_parameters()를 사용하여 3개의 $w$와 $b$를 전달합니다. 학습률은 0.00001 (1e-5) 로 정합니다.\n",
        "\n",
        "*유의 사항 : 학습률을 0.01로 정의하지 않는 이유*\n",
        "\n",
        "학습률을 0.01로 정의하게 된다면 기울기가 발산하게 됩니다. 모델의 필요한 크기보다 학습률이 커지게 되는 것입니다. (아래의 그림 참조)\n",
        "\n",
        "![image.png](data:image/png;base64,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)"
      ],
      "metadata": {
        "id": "MrypG8V6nyH9"
      }
    },
    {
      "cell_type": "code",
      "source": [
        "# optimizer 정의\n",
        "optimizer = torch.optim.SGD(model.parameters(), lr=1e-5)\n",
        "\n",
        "nb_epochs = 2000\n",
        "for epoch in range(nb_epochs+1):\n",
        "\n",
        "  # H(x) 계산\n",
        "  prediction = model(x_train)\n",
        "\n",
        "  # cost 계산\n",
        "  cost = F.mse_loss(prediction, y_train)\n",
        "\n",
        "  # cost로 H(x)를 개선\n",
        "  # gradient를 0으로 초기화\n",
        "  optimizer.zero_grad()\n",
        "  # 비용 함수를 미분하여 gradient 계산\n",
        "  cost.backward()\n",
        "  # W와 b를 업데이트\n",
        "  optimizer.step()\n",
        "\n",
        "  if epoch % 100 == 0:\n",
        "    print(f\"Epoch: {epoch:4d}/{nb_epochs} Cost: {cost.item():.6f}\")"
      ],
      "metadata": {
        "colab": {
          "base_uri": "https://localhost:8080/"
        },
        "id": "Xk61zcC3nu9a",
        "outputId": "30606cd4-59ea-456e-ab7b-95111362eeb2"
      },
      "execution_count": 22,
      "outputs": [
        {
          "output_type": "stream",
          "name": "stdout",
          "text": [
            "Epoch:    0/2000 Cost: 24821.373047\n",
            "Epoch:  100/2000 Cost: 0.849148\n",
            "Epoch:  200/2000 Cost: 0.825597\n",
            "Epoch:  300/2000 Cost: 0.803225\n",
            "Epoch:  400/2000 Cost: 0.781968\n",
            "Epoch:  500/2000 Cost: 0.761775\n",
            "Epoch:  600/2000 Cost: 0.742599\n",
            "Epoch:  700/2000 Cost: 0.724357\n",
            "Epoch:  800/2000 Cost: 0.707025\n",
            "Epoch:  900/2000 Cost: 0.690548\n",
            "Epoch: 1000/2000 Cost: 0.674883\n",
            "Epoch: 1100/2000 Cost: 0.659985\n",
            "Epoch: 1200/2000 Cost: 0.645810\n",
            "Epoch: 1300/2000 Cost: 0.632342\n",
            "Epoch: 1400/2000 Cost: 0.619514\n",
            "Epoch: 1500/2000 Cost: 0.607307\n",
            "Epoch: 1600/2000 Cost: 0.595680\n",
            "Epoch: 1700/2000 Cost: 0.584620\n",
            "Epoch: 1800/2000 Cost: 0.574083\n",
            "Epoch: 1900/2000 Cost: 0.564048\n",
            "Epoch: 2000/2000 Cost: 0.554477\n"
          ]
        }
      ]
    },
    {
      "cell_type": "markdown",
      "source": [
        "Cost의 값이 작은 것을 보니 훈련이 잘 되었습니다.\n",
        "\n",
        "임의의 입력 [73,80,75]를 넣어서 $y$값을 확인해 봅시다."
      ],
      "metadata": {
        "id": "9pXRq8VypuiM"
      }
    },
    {
      "cell_type": "code",
      "source": [
        "new_var = torch.FloatTensor([[73,80,75]])\n",
        "pred_y = model(new_var)\n",
        "print('훈련 후 입력이 73,80,75일 때의 예측값 :',pred_y)"
      ],
      "metadata": {
        "colab": {
          "base_uri": "https://localhost:8080/"
        },
        "id": "ncpBrsjFpXak",
        "outputId": "dfabf2d8-4211-49b6-f1a3-31d6a2a6c5e6"
      },
      "execution_count": 23,
      "outputs": [
        {
          "output_type": "stream",
          "name": "stdout",
          "text": [
            "훈련 후 입력이 73,80,75일 때의 예측값 : tensor([[151.6526]], grad_fn=<AddmmBackward0>)\n"
          ]
        }
      ]
    },
    {
      "cell_type": "markdown",
      "source": [
        "학습 후의 3개의 $w$와 $b$의 값을 출력해봅시다."
      ],
      "metadata": {
        "id": "-GL4eHb_yqVv"
      }
    },
    {
      "cell_type": "code",
      "source": [
        "print(list(model.parameters()))"
      ],
      "metadata": {
        "colab": {
          "base_uri": "https://localhost:8080/"
        },
        "id": "lKWvH8YGqSq4",
        "outputId": "fa13c599-42a6-4aa8-9e16-4cbe0e3e317e"
      },
      "execution_count": 24,
      "outputs": [
        {
          "output_type": "stream",
          "name": "stdout",
          "text": [
            "[Parameter containing:\n",
            "tensor([[0.7497, 0.4868, 0.7725]], requires_grad=True), Parameter containing:\n",
            "tensor([0.0386], requires_grad=True)]\n"
          ]
        }
      ]
    },
    {
      "cell_type": "markdown",
      "source": [
        "## 3. 모델을 클래스로 구현하기"
      ],
      "metadata": {
        "id": "G9yxSFZy4lb8"
      }
    },
    {
      "cell_type": "markdown",
      "source": [
        "단순 선형 회귀 모델을 클래스로 구현하면 다음과 같습니다."
      ],
      "metadata": {
        "id": "k1EYHgyO4pFF"
      }
    },
    {
      "cell_type": "code",
      "source": [
        "# 앞선 예제 : 실행하지 말 것\n",
        "model = nn.Linear(3,1)"
      ],
      "metadata": {
        "id": "3ZsEV5DXyy1j"
      },
      "execution_count": null,
      "outputs": []
    },
    {
      "cell_type": "code",
      "source": [
        "class LinearRegressionModel(nn.Module): # torch.nn.Module을 상속받는 파이썬 클래스\n",
        "  def __init__(self):\n",
        "    super().__init__() # nn.Module 클래스의 속성들을 상속받습니다.\n",
        "    self.linear = nn.Linear(1,1) # 단순 선형 회귀이므로 input_dim = 1, output_dim = 1\n",
        "\n",
        "  def forward(self, x):\n",
        "    return self.linear(x)"
      ],
      "metadata": {
        "id": "KH3oOCPM47RQ"
      },
      "execution_count": 26,
      "outputs": []
    },
    {
      "cell_type": "code",
      "source": [
        "model = LinearRegressionModel()"
      ],
      "metadata": {
        "id": "VB2arC2n8VIi"
      },
      "execution_count": 27,
      "outputs": []
    },
    {
      "cell_type": "markdown",
      "source": [
        "위와 같은 모델 구현 방식은 대부분의 Pytorch 구현체에서 사용하고 있는 방식입니다.\n",
        "\n",
        "클래스 (class) 형태의 모델은 부모 클래스 nn.Module을 상속받습니다. 생성자 \\_\\_init__()에서는 모델의 구조와 동작을 정의합니다. forward() 메소드는 학습데이터를 인자로 받아 forward 연산을 진행하여 반환합니다.\n",
        "\n",
        "아래와 같은 방식으로 모델 객체를 선언하고, 메소드를 호출할 수 있습니다.\n",
        "\n",
        "```python\n",
        "model = LinearRegressionModel()\n",
        "model.forward(x) # x는 입력 데이터\n",
        "```"
      ],
      "metadata": {
        "id": "1BsYVQpZ8yD-"
      }
    },
    {
      "cell_type": "markdown",
      "source": [
        "## 4. 단순 선형 회귀 클래스로 구현하기"
      ],
      "metadata": {
        "id": "3tBz9Tqzqut-"
      }
    },
    {
      "cell_type": "code",
      "source": [
        "import torch\n",
        "import torch.nn as nn\n",
        "import torch.nn.functional as F\n",
        "\n",
        "torch.manual_seed(1)"
      ],
      "metadata": {
        "colab": {
          "base_uri": "https://localhost:8080/"
        },
        "id": "gNd9vctf8xRV",
        "outputId": "cf0cfa8d-29b8-4726-ea64-646aaa40b55c"
      },
      "execution_count": 1,
      "outputs": [
        {
          "output_type": "execute_result",
          "data": {
            "text/plain": [
              "<torch._C.Generator at 0x7e7b8557cbf0>"
            ]
          },
          "metadata": {},
          "execution_count": 1
        }
      ]
    },
    {
      "cell_type": "code",
      "source": [
        "# 데이터\n",
        "x_train = torch.FloatTensor([[1],[2],[3]])\n",
        "y_train = torch.FloatTensor([[2],[4],[6]])"
      ],
      "metadata": {
        "id": "mpw9oCLZrECh"
      },
      "execution_count": 2,
      "outputs": []
    },
    {
      "cell_type": "code",
      "source": [
        "# 모델을 클래스로 구현\n",
        "class LinearRegressionModel(nn.Module):\n",
        "  def __init__(self):\n",
        "    super().__init__()\n",
        "    self.linear = nn.Linear(1,1)\n",
        "\n",
        "  def forward(self,x):\n",
        "    return self.linear(x)\n",
        "\n",
        "model = LinearRegressionModel()"
      ],
      "metadata": {
        "id": "5sS1x5QGrQSU"
      },
      "execution_count": 4,
      "outputs": []
    },
    {
      "cell_type": "code",
      "source": [
        "# optimizer 설정\n",
        "optimizer = torch.optim.SGD(model.parameters(), lr=0.01)"
      ],
      "metadata": {
        "id": "o7Kcci1SrpE1"
      },
      "execution_count": 5,
      "outputs": []
    },
    {
      "cell_type": "code",
      "source": [
        "# 전체 훈련 데이터에 대해 경사 하강법을 2,000회 반복\n",
        "nb_epochs = 2000\n",
        "for epoch in range(1,nb_epochs+1):\n",
        "\n",
        "  # H(x) 계산\n",
        "  prediction = model(x_train)\n",
        "\n",
        "  # cost 계산\n",
        "  cost = F.mse_loss(prediction, y_train)\n",
        "\n",
        "  # cost로 H(x)를 개선\n",
        "  # gradient를 0으로 초기화\n",
        "  optimizer.zero_grad()\n",
        "  # 비용 함수를 미분하여 gradient 계산\n",
        "  cost.backward()\n",
        "  # W와 b를 업데이트\n",
        "  optimizer.step()\n",
        "\n",
        "  if epoch % 100 == 0:\n",
        "    print(f\"Epoch: {epoch:4d}/{nb_epochs} Cost: {cost.item():.6f}\")"
      ],
      "metadata": {
        "colab": {
          "base_uri": "https://localhost:8080/"
        },
        "id": "pm4gAClQsEPo",
        "outputId": "61762941-ceba-4268-a155-13f0e53af1d2"
      },
      "execution_count": 7,
      "outputs": [
        {
          "output_type": "stream",
          "name": "stdout",
          "text": [
            "Epoch:  100/2000 Cost: 0.001733\n",
            "Epoch:  200/2000 Cost: 0.001071\n",
            "Epoch:  300/2000 Cost: 0.000662\n",
            "Epoch:  400/2000 Cost: 0.000409\n",
            "Epoch:  500/2000 Cost: 0.000253\n",
            "Epoch:  600/2000 Cost: 0.000156\n",
            "Epoch:  700/2000 Cost: 0.000096\n",
            "Epoch:  800/2000 Cost: 0.000060\n",
            "Epoch:  900/2000 Cost: 0.000037\n",
            "Epoch: 1000/2000 Cost: 0.000023\n",
            "Epoch: 1100/2000 Cost: 0.000014\n",
            "Epoch: 1200/2000 Cost: 0.000009\n",
            "Epoch: 1300/2000 Cost: 0.000005\n",
            "Epoch: 1400/2000 Cost: 0.000003\n",
            "Epoch: 1500/2000 Cost: 0.000002\n",
            "Epoch: 1600/2000 Cost: 0.000001\n",
            "Epoch: 1700/2000 Cost: 0.000001\n",
            "Epoch: 1800/2000 Cost: 0.000000\n",
            "Epoch: 1900/2000 Cost: 0.000000\n",
            "Epoch: 2000/2000 Cost: 0.000000\n"
          ]
        }
      ]
    },
    {
      "cell_type": "markdown",
      "source": [
        "## 5. 다중 선형 회귀 클래스로 구현하기"
      ],
      "metadata": {
        "id": "t8mHxxq_vFj4"
      }
    },
    {
      "cell_type": "code",
      "source": [
        "import torch\n",
        "import torch.nn as nn\n",
        "import torch.nn.functional as F\n",
        "\n",
        "torch.manual_seed(1)"
      ],
      "metadata": {
        "colab": {
          "base_uri": "https://localhost:8080/"
        },
        "id": "5ric0RIOtKeD",
        "outputId": "1222df44-ebd1-4b9c-b9f9-7ed968658e96"
      },
      "execution_count": 8,
      "outputs": [
        {
          "output_type": "execute_result",
          "data": {
            "text/plain": [
              "<torch._C.Generator at 0x7e7b8557cbf0>"
            ]
          },
          "metadata": {},
          "execution_count": 8
        }
      ]
    },
    {
      "cell_type": "code",
      "source": [
        "# 데이터\n",
        "x_train = torch.FloatTensor([[73,80,75],\n",
        "                             [93,88,93],\n",
        "                             [89,91,90],\n",
        "                             [96,98,100],\n",
        "                             [73,66,70]])\n",
        "y_train = torch.FloatTensor([[152],[185],[180],[196],[142]])"
      ],
      "metadata": {
        "id": "NZHxL6WzvM-6"
      },
      "execution_count": 9,
      "outputs": []
    },
    {
      "cell_type": "code",
      "source": [
        "# 클래스로 모델을 구현\n",
        "class MultivariateLinearRegressionModel(nn.Module):\n",
        "  def __init__(self):\n",
        "    super().__init__()\n",
        "    self.linear = nn.Linear(3,1) # 다중 선형 회귀이므로 input_dim = 3, output_dim = 1.\n",
        "\n",
        "  def forward(self,x):\n",
        "    return self.linear(x)\n",
        "\n",
        "model = MultivariateLinearRegressionModel()"
      ],
      "metadata": {
        "id": "RxlltVdjvuEO"
      },
      "execution_count": 11,
      "outputs": []
    },
    {
      "cell_type": "code",
      "source": [
        "# optimizer 설정\n",
        "optimizer = torch.optim.SGD(model.parameters(), lr=1e-5)"
      ],
      "metadata": {
        "id": "qrv2Ip5Zvlqx"
      },
      "execution_count": 12,
      "outputs": []
    },
    {
      "cell_type": "code",
      "source": [
        "# 전체 훈련 데이터에 대해 경사 하강법을 2,000회 반복\n",
        "nb_epochs = 2000\n",
        "for epoch in range(1,nb_epochs+1):\n",
        "\n",
        "  # H(x) 계산\n",
        "  prediction = model(x_train)\n",
        "\n",
        "  # cost 계산\n",
        "  cost = F.mse_loss(prediction, y_train)\n",
        "\n",
        "  # cost로 H(x)를 개선\n",
        "  # gradient를 0으로 초기화\n",
        "  optimizer.zero_grad()\n",
        "  # 비용 함수를 미분하여 gradient 계산\n",
        "  cost.backward()\n",
        "  # W와 b를 업데이트\n",
        "  optimizer.step()\n",
        "\n",
        "  if epoch % 100 == 0:\n",
        "    print(f\"Epoch: {epoch:4d}/{nb_epochs} Cost: {cost.item():.6f}\")"
      ],
      "metadata": {
        "colab": {
          "base_uri": "https://localhost:8080/"
        },
        "id": "yOxNH2efw5lQ",
        "outputId": "f5585c85-e834-49a1-84e4-d5ea8ba205b7"
      },
      "execution_count": 13,
      "outputs": [
        {
          "output_type": "stream",
          "name": "stdout",
          "text": [
            "Epoch:  100/2000 Cost: 0.226011\n",
            "Epoch:  200/2000 Cost: 0.223930\n",
            "Epoch:  300/2000 Cost: 0.221953\n",
            "Epoch:  400/2000 Cost: 0.220074\n",
            "Epoch:  500/2000 Cost: 0.218288\n",
            "Epoch:  600/2000 Cost: 0.216593\n",
            "Epoch:  700/2000 Cost: 0.214968\n",
            "Epoch:  800/2000 Cost: 0.213431\n",
            "Epoch:  900/2000 Cost: 0.211972\n",
            "Epoch: 1000/2000 Cost: 0.210574\n",
            "Epoch: 1100/2000 Cost: 0.209243\n",
            "Epoch: 1200/2000 Cost: 0.207984\n",
            "Epoch: 1300/2000 Cost: 0.206778\n",
            "Epoch: 1400/2000 Cost: 0.205630\n",
            "Epoch: 1500/2000 Cost: 0.204536\n",
            "Epoch: 1600/2000 Cost: 0.203488\n",
            "Epoch: 1700/2000 Cost: 0.202492\n",
            "Epoch: 1800/2000 Cost: 0.201549\n",
            "Epoch: 1900/2000 Cost: 0.200644\n",
            "Epoch: 2000/2000 Cost: 0.199780\n"
          ]
        }
      ]
    },
    {
      "cell_type": "code",
      "source": [
        "print(list(model.parameters()))"
      ],
      "metadata": {
        "colab": {
          "base_uri": "https://localhost:8080/"
        },
        "id": "tt2ZDu5wxy4W",
        "outputId": "12d46e79-3c5b-4438-f3b3-2fd76dd9a9c4"
      },
      "execution_count": 14,
      "outputs": [
        {
          "output_type": "stream",
          "name": "stdout",
          "text": [
            "[Parameter containing:\n",
            "tensor([[0.9778, 0.4539, 0.5768]], requires_grad=True), Parameter containing:\n",
            "tensor([0.2802], requires_grad=True)]\n"
          ]
        }
      ]
    }
  ]
}